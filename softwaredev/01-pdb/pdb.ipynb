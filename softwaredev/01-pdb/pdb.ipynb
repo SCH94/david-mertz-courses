{
 "cells": [
  {
   "cell_type": "markdown",
   "metadata": {},
   "source": [
    "<div style=\"position: relative;\">\n",
    "<img src=\"https://user-images.githubusercontent.com/7065401/98728503-5ab82f80-2378-11eb-9c79-adeb308fc647.png\"></img>\n",
    "\n",
    "<h1 style=\"color: white; position: absolute; top:27%; left:10%;\">\n",
    "     Software Development with Python\n",
    "</h1>\n",
    "\n",
    "<h3 style=\"color: #ef7d22; font-weight: normal; position: absolute; top:55%; left:10%;\">\n",
    "    David Mertz, Ph.D.\n",
    "</h3>\n",
    "\n",
    "<h3 style=\"color: #ef7d22; font-weight: normal; position: absolute; top:62%; left:10%;\">\n",
    "    Data Scientist\n",
    "</h3>\n",
    "</div>"
   ]
  },
  {
   "cell_type": "markdown",
   "metadata": {},
   "source": [
    "# Debugging programs\n",
    "\n",
    "When we develop software applications, we inevitably make mistake and produce bugs.  Some are subtle, some are obvious.  In many cases, using a *debugger* can be of great assistance in identifying the source of problems.  Typically we use these to inspect the state of programs in the middle them running; this can often provide more insight than simply looking at results, or even scattering `print()` or logging statements in portions you are concerned about."
   ]
  },
  {
   "cell_type": "markdown",
   "metadata": {},
   "source": [
    "Python itself comes with a visually bare-bones debugger called `pdb`.  Integrated Development Environments (IDEs) designed for Python also often include their own debugging capability.  However, a class of programs—including some IDEs or editors—merely piggyback on the capabilities that are already present in `pdb`.  These often provide an friendlier user interface, but identical capabilities.  `ipdb` and `pudb` are examples of this that can be installed with `pip` or `conda`."
   ]
  },
  {
   "cell_type": "markdown",
   "metadata": {},
   "source": [
    "## Fixing a project\n",
    "\n",
    "The library *Fractal* was presented, in evolving versions in the courses *Python Concurrency and Parallelism* and *Unit Testing with Python*.  A version of the library is in the repository for this course as well.  Added to this version is a top-level script `create-fractal.py` which has a bug in it.\n",
    "\n",
    "Let us try to fix that."
   ]
  }
 ],
 "metadata": {
  "kernelspec": {
   "display_name": "Python 3",
   "language": "python",
   "name": "python3"
  },
  "language_info": {
   "codemirror_mode": {
    "name": "ipython",
    "version": 3
   },
   "file_extension": ".py",
   "mimetype": "text/x-python",
   "name": "python",
   "nbconvert_exporter": "python",
   "pygments_lexer": "ipython3",
   "version": "3.8.2"
  }
 },
 "nbformat": 4,
 "nbformat_minor": 4
}
